{
  "nbformat": 4,
  "nbformat_minor": 0,
  "metadata": {
    "colab": {
      "name": "mbti personality types youtube.ipynb",
      "provenance": [],
      "collapsed_sections": [],
      "toc_visible": true,
      "authorship_tag": "ABX9TyMp8b4Lsjp4fHQ8HWkA/OhQ",
      "include_colab_link": true
    },
    "kernelspec": {
      "name": "python3",
      "display_name": "Python 3"
    },
    "language_info": {
      "name": "python"
    },
    "accelerator": "GPU"
  },
  "cells": [
    {
      "cell_type": "markdown",
      "metadata": {
        "id": "view-in-github",
        "colab_type": "text"
      },
      "source": [
        "<a href=\"https://colab.research.google.com/github/dpicca/colab_projects/blob/main/mbti_personality_types_youtube.ipynb\" target=\"_parent\"><img src=\"https://colab.research.google.com/assets/colab-badge.svg\" alt=\"Open In Colab\"/></a>"
      ]
    },
    {
      "cell_type": "code",
      "metadata": {
        "id": "4pvGvn82N0IN"
      },
      "source": [
        "!pip install youtube-tts-data-generator\n",
        "!pip install youtube-search"
      ],
      "execution_count": null,
      "outputs": []
    },
    {
      "cell_type": "code",
      "metadata": {
        "colab": {
          "base_uri": "https://localhost:8080/"
        },
        "id": "RNurVnUJYqJd",
        "outputId": "8e0c7166-a894-4d01-cca3-920f5ba6f1d0"
      },
      "source": [
        "from youtube_search import YoutubeSearch\n",
        "\n",
        "results = YoutubeSearch('mbti personality types', max_results=10).to_json()\n",
        "type(results)"
      ],
      "execution_count": null,
      "outputs": [
        {
          "output_type": "execute_result",
          "data": {
            "text/plain": [
              "str"
            ]
          },
          "metadata": {
            "tags": []
          },
          "execution_count": 2
        }
      ]
    },
    {
      "cell_type": "code",
      "metadata": {
        "id": "Jdv8y0NxlGlN"
      },
      "source": [
        "import json\n",
        "f = open(\"links.txt\", \"a\")\n",
        "videos=json.loads(results)\n",
        "for video in videos['videos']:\n",
        "  f.write(f\"https://www.youtube.com{video['url_suffix']}\\n\")\n",
        "f.close()"
      ],
      "execution_count": null,
      "outputs": []
    },
    {
      "cell_type": "code",
      "metadata": {
        "id": "YlDhYia9Qn-p",
        "colab": {
          "base_uri": "https://localhost:8080/"
        },
        "outputId": "3d0ccfcd-9079-4beb-df97-04fb05bb7a4b"
      },
      "source": [
        "from youtube_tts_data_generator import YTSpeechDataGenerator\n",
        "\n",
        "# First create a YTSpeechDataGenerator instance:\n",
        "\n",
        "generator = YTSpeechDataGenerator(dataset_name='tmay')\n",
        "\n",
        "# Now create a '.txt' file that contains a list of YouTube videos that contains speeches.\n",
        "# NOTE - Make sure you choose videos with subtitles.\n",
        "\n",
        "generator.prepare_dataset('links.txt')\n",
        "# The above will take care about creating your dataset, creating a metadata file and trimming silence from the audios.\n",
        "\n"
      ],
      "execution_count": null,
      "outputs": [
        {
          "output_type": "stream",
          "text": [
            "/usr/local/lib/python3.7/dist-packages/sklearn/feature_extraction/text.py:17: DeprecationWarning: Using or importing the ABCs from 'collections' instead of from 'collections.abc' is deprecated since Python 3.3,and in 3.9 it will stop working\n",
            "  from collections import Mapping, defaultdict\n"
          ],
          "name": "stderr"
        },
        {
          "output_type": "stream",
          "text": [
            "Creating directory 'tmay_prep'..\n",
            "Creating directory 'tmay_prep/downloaded'\n",
            "Creating directory 'tmay_prep/split'\n",
            "Creating directory 'tmay_prep/concatenated'\n",
            "Creating directory 'tmay'..\n",
            "Creating directory 'tmay/wavs'\n",
            "Creating directory 'tmay/txts'\n",
            "Completed downloading tmay1.wav from https://www.youtube.com/watch?v=NXcWZnQPUXw\n",
            "Completed downloading tmay2.wav from https://www.youtube.com/watch?v=JgGTa9wgRvg\n",
            "Completed downloading tmay3.wav from https://www.youtube.com/watch?v=sdR13Uyp--4\n"
          ],
          "name": "stdout"
        },
        {
          "output_type": "stream",
          "text": [
            "/usr/local/lib/python3.7/dist-packages/youtube_tts_data_generator/youtube_tts_data_generator.py:346: NoSubtitleWarning: WARNING - video https://www.youtube.com/watch?v=3C-4vP05zV0 does not have subtitles. Skipping..\n",
            "  NoSubtitleWarning,\n"
          ],
          "name": "stderr"
        },
        {
          "output_type": "stream",
          "text": [
            "Completed downloading tmay5.wav from https://www.youtube.com/watch?v=2ZF4OM6mrrI\n",
            "Completed downloading tmay6.wav from https://www.youtube.com/watch?v=GyDjCTeRDzY\n",
            "Completed downloading tmay7.wav from https://www.youtube.com/watch?v=hmZn6pWbSG4\n",
            "Completed downloading tmay8.wav from https://www.youtube.com/watch?v=M4YLO-2Tb2w\n",
            "Completed downloading tmay9.wav from https://www.youtube.com/watch?v=VoHvzPDoBuk\n"
          ],
          "name": "stdout"
        },
        {
          "output_type": "stream",
          "text": [
            "Processing tmay1.wav:   0%|          | 0/9 [00:00<?, ?it/s]"
          ],
          "name": "stderr"
        },
        {
          "output_type": "stream",
          "text": [
            "Completed downloading tmay10.wav from https://www.youtube.com/watch?v=KY9pjAbEZL8\n",
            "Completed downloading audios to '/content/tmay_prep/downloaded'\n",
            "You can find files data in '/content/tmay_prep/downloaded/files.txt'\n"
          ],
          "name": "stdout"
        },
        {
          "output_type": "stream",
          "text": [
            "Processing tmay10.wav: 100%|██████████| 9/9 [06:08<00:00, 40.94s/it]\n",
            "Processing tmay10.wav:   0%|          | 0/9 [00:00<?, ?it/s]"
          ],
          "name": "stderr"
        },
        {
          "output_type": "stream",
          "text": [
            "Completed splitting audios and texts to '/content/tmay_prep/split'\n",
            "Verifying split audios and their transcriptions.\n"
          ],
          "name": "stdout"
        },
        {
          "output_type": "stream",
          "text": [
            "Processing tmay10.wav: 100%|██████████| 9/9 [05:14<00:00, 34.92s/it]\n",
            "  1%|          | 20/1814 [00:00<00:09, 193.91it/s]"
          ],
          "name": "stderr"
        },
        {
          "output_type": "stream",
          "text": [
            "Completed verifying audios and their transcriptions in '/content/tmay_prep/split'.\n",
            "You can find files data in '/content/tmay_prep/split/split.csv'\n",
            "Reading audio data from 'split.csv'.\n",
            "Processing audios shorter than 7 seconds..\n"
          ],
          "name": "stdout"
        },
        {
          "output_type": "stream",
          "text": [
            "100%|██████████| 1814/1814 [00:10<00:00, 180.53it/s]\n",
            "100%|██████████| 9/9 [00:00<00:00, 364.09it/s]\n",
            "  0%|          | 0/1823 [00:00<?, ?it/s]"
          ],
          "name": "stderr"
        },
        {
          "output_type": "stream",
          "text": [
            "Processing audios longer than 7 seconds..\n",
            "Completed concatenating audios and their transcriptions in '/content/tmay_prep/concatenated'.\n",
            "Trimming silence from audios in '/content/tmay_prep/concatenated'.\n"
          ],
          "name": "stdout"
        },
        {
          "output_type": "stream",
          "text": [
            "100%|██████████| 1823/1823 [05:27<00:00,  5.56it/s]\n"
          ],
          "name": "stderr"
        },
        {
          "output_type": "stream",
          "text": [
            "Dataset 'tmay' has been generated. Wav files are placed in '/content/tmay/wavs'. Transcription files are placed in '/content/tmay/txts'.\n",
            "Metadata is placed in '/content/tmay' as 'metadata.csv'.\n",
            "Collected 0.21hours (749 seconds) of audio.\n"
          ],
          "name": "stdout"
        }
      ]
    },
    {
      "cell_type": "code",
      "metadata": {
        "id": "BME0NysGsm4B"
      },
      "source": [
        "!zip -r /content/tmay.zip /content/tmay\n",
        "!zip -r /content/tmay_prep.zip /content/tmay_prep/"
      ],
      "execution_count": null,
      "outputs": []
    },
    {
      "cell_type": "code",
      "metadata": {
        "colab": {
          "base_uri": "https://localhost:8080/",
          "height": 34
        },
        "id": "sv5OZWAy6L9e",
        "outputId": "86a923cc-a24f-49de-fc06-a08ed46f235d"
      },
      "source": [
        "\n",
        "from google.colab import files\n",
        "files.download(\"/content/tmay_prep.zip\")"
      ],
      "execution_count": null,
      "outputs": [
        {
          "output_type": "display_data",
          "data": {
            "application/javascript": [
              "\n",
              "    async function download(id, filename, size) {\n",
              "      if (!google.colab.kernel.accessAllowed) {\n",
              "        return;\n",
              "      }\n",
              "      const div = document.createElement('div');\n",
              "      const label = document.createElement('label');\n",
              "      label.textContent = `Downloading \"${filename}\": `;\n",
              "      div.appendChild(label);\n",
              "      const progress = document.createElement('progress');\n",
              "      progress.max = size;\n",
              "      div.appendChild(progress);\n",
              "      document.body.appendChild(div);\n",
              "\n",
              "      const buffers = [];\n",
              "      let downloaded = 0;\n",
              "\n",
              "      const channel = await google.colab.kernel.comms.open(id);\n",
              "      // Send a message to notify the kernel that we're ready.\n",
              "      channel.send({})\n",
              "\n",
              "      for await (const message of channel.messages) {\n",
              "        // Send a message to notify the kernel that we're ready.\n",
              "        channel.send({})\n",
              "        if (message.buffers) {\n",
              "          for (const buffer of message.buffers) {\n",
              "            buffers.push(buffer);\n",
              "            downloaded += buffer.byteLength;\n",
              "            progress.value = downloaded;\n",
              "          }\n",
              "        }\n",
              "      }\n",
              "      const blob = new Blob(buffers, {type: 'application/binary'});\n",
              "      const a = document.createElement('a');\n",
              "      a.href = window.URL.createObjectURL(blob);\n",
              "      a.download = filename;\n",
              "      div.appendChild(a);\n",
              "      a.click();\n",
              "      div.remove();\n",
              "    }\n",
              "  "
            ],
            "text/plain": [
              "<IPython.core.display.Javascript object>"
            ]
          },
          "metadata": {
            "tags": []
          }
        },
        {
          "output_type": "display_data",
          "data": {
            "application/javascript": [
              "download(\"download_9f786000-187d-4be6-a8df-1e8828842215\", \"tmay_prep.zip\", 1482659766)"
            ],
            "text/plain": [
              "<IPython.core.display.Javascript object>"
            ]
          },
          "metadata": {
            "tags": []
          }
        }
      ]
    }
  ]
}