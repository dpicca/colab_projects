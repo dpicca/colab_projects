{
  "nbformat": 4,
  "nbformat_minor": 0,
  "metadata": {
    "colab": {
      "name": "youtube_tell me about yourself interview.ipynb",
      "provenance": [],
      "authorship_tag": "ABX9TyMWHPByGxsqg9XIMwAgyZNp",
      "include_colab_link": true
    },
    "kernelspec": {
      "name": "python3",
      "display_name": "Python 3"
    },
    "language_info": {
      "name": "python"
    },
    "accelerator": "GPU"
  },
  "cells": [
    {
      "cell_type": "markdown",
      "metadata": {
        "id": "view-in-github",
        "colab_type": "text"
      },
      "source": [
        "<a href=\"https://colab.research.google.com/github/dpicca/colab_projects/blob/main/youtube_tell_me_about_yourself_interview.ipynb\" target=\"_parent\"><img src=\"https://colab.research.google.com/assets/colab-badge.svg\" alt=\"Open In Colab\"/></a>"
      ]
    },
    {
      "cell_type": "code",
      "metadata": {
        "id": "4pvGvn82N0IN"
      },
      "source": [
        "!pip install youtube-tts-data-generator\n",
        "!pip install youtube-search"
      ],
      "execution_count": null,
      "outputs": []
    },
    {
      "cell_type": "code",
      "metadata": {
        "colab": {
          "base_uri": "https://localhost:8080/"
        },
        "id": "RNurVnUJYqJd",
        "outputId": "bdccbdc9-1c9e-4702-becb-c75612030bbc"
      },
      "source": [
        "from youtube_search import YoutubeSearch\n",
        "\n",
        "results = YoutubeSearch('tell me about yourself interview', max_results=10).to_json()\n",
        "type(results)"
      ],
      "execution_count": null,
      "outputs": [
        {
          "output_type": "execute_result",
          "data": {
            "text/plain": [
              "str"
            ]
          },
          "metadata": {
            "tags": []
          },
          "execution_count": 12
        }
      ]
    },
    {
      "cell_type": "code",
      "metadata": {
        "id": "Jdv8y0NxlGlN"
      },
      "source": [
        "import json\n",
        "f = open(\"links.txt\", \"a\")\n",
        "videos=json.loads(results)\n",
        "for video in videos['videos']:\n",
        "  f.write(f\"https://www.youtube.com{video['url_suffix']}\\n\")\n",
        "f.close()"
      ],
      "execution_count": null,
      "outputs": []
    },
    {
      "cell_type": "code",
      "metadata": {
        "id": "YlDhYia9Qn-p",
        "colab": {
          "base_uri": "https://localhost:8080/"
        },
        "outputId": "ca4cd9eb-3cac-406a-8609-90c151b41af2"
      },
      "source": [
        "from youtube_tts_data_generator import YTSpeechDataGenerator\n",
        "\n",
        "# First create a YTSpeechDataGenerator instance:\n",
        "\n",
        "generator = YTSpeechDataGenerator(dataset_name='tmay')\n",
        "\n",
        "# Now create a '.txt' file that contains a list of YouTube videos that contains speeches.\n",
        "# NOTE - Make sure you choose videos with subtitles.\n",
        "\n",
        "generator.prepare_dataset('links.txt')\n",
        "# The above will take care about creating your dataset, creating a metadata file and trimming silence from the audios.\n",
        "\n"
      ],
      "execution_count": null,
      "outputs": [
        {
          "output_type": "stream",
          "text": [
            "/usr/local/lib/python3.7/dist-packages/sklearn/feature_extraction/text.py:17: DeprecationWarning: Using or importing the ABCs from 'collections' instead of from 'collections.abc' is deprecated since Python 3.3,and in 3.9 it will stop working\n",
            "  from collections import Mapping, defaultdict\n"
          ],
          "name": "stderr"
        },
        {
          "output_type": "stream",
          "text": [
            "Creating directory 'tmay_prep'..\n",
            "Creating directory 'tmay_prep/downloaded'\n",
            "Creating directory 'tmay_prep/split'\n",
            "Creating directory 'tmay_prep/concatenated'\n",
            "Creating directory 'tmay'..\n",
            "Creating directory 'tmay/wavs'\n",
            "Creating directory 'tmay/txts'\n",
            "Completed downloading tmay1.wav from https://www.youtube.com/watch?v=kayOhGRcNt4\n",
            "Completed downloading tmay2.wav from https://www.youtube.com/watch?v=5v-wyR5emRw\n",
            "Completed downloading tmay3.wav from https://www.youtube.com/watch?v=EzGH3hZuJVk\n"
          ],
          "name": "stdout"
        },
        {
          "output_type": "stream",
          "text": [
            "/usr/local/lib/python3.7/dist-packages/youtube_tts_data_generator/youtube_tts_data_generator.py:346: NoSubtitleWarning: WARNING - video https://www.youtube.com/watch?v=cpm0aB9M-1g does not have subtitles. Skipping..\n",
            "  NoSubtitleWarning,\n"
          ],
          "name": "stderr"
        },
        {
          "output_type": "stream",
          "text": [
            "Completed downloading tmay5.wav from https://www.youtube.com/watch?v=1ey58zDpBgE\n",
            "Completed downloading tmay6.wav from https://www.youtube.com/watch?v=TQHW7gGjrCQ\n",
            "Completed downloading tmay7.wav from https://www.youtube.com/watch?v=HMQlA-TIAsk\n",
            "Completed downloading tmay8.wav from https://www.youtube.com/watch?v=2jkAj99sEzs\n",
            "Completed downloading tmay9.wav from https://www.youtube.com/watch?v=MmFuWmzeiDs\n"
          ],
          "name": "stdout"
        },
        {
          "output_type": "stream",
          "text": [
            "/usr/local/lib/python3.7/dist-packages/youtube_tts_data_generator/youtube_tts_data_generator.py:346: NoSubtitleWarning: WARNING - video https://www.youtube.com/watch?v=Xdv4fSPCWyY does not have subtitles. Skipping..\n",
            "  NoSubtitleWarning,\n",
            "Processing tmay1.wav:   0%|          | 0/8 [00:00<?, ?it/s]"
          ],
          "name": "stderr"
        },
        {
          "output_type": "stream",
          "text": [
            "Completed downloading audios to '/content/tmay_prep/downloaded'\n",
            "You can find files data in '/content/tmay_prep/downloaded/files.txt'\n"
          ],
          "name": "stdout"
        },
        {
          "output_type": "stream",
          "text": [
            "Processing tmay9.wav: 100%|██████████| 8/8 [02:45<00:00, 20.65s/it]\n",
            "Processing tmay9.wav:   0%|          | 0/8 [00:00<?, ?it/s]"
          ],
          "name": "stderr"
        },
        {
          "output_type": "stream",
          "text": [
            "Completed splitting audios and texts to '/content/tmay_prep/split'\n",
            "Verifying split audios and their transcriptions.\n"
          ],
          "name": "stdout"
        },
        {
          "output_type": "stream",
          "text": [
            "Processing tmay9.wav: 100%|██████████| 8/8 [03:32<00:00, 26.58s/it]\n",
            "  2%|▏         | 18/844 [00:00<00:04, 171.92it/s]"
          ],
          "name": "stderr"
        },
        {
          "output_type": "stream",
          "text": [
            "Completed verifying audios and their transcriptions in '/content/tmay_prep/split'.\n",
            "You can find files data in '/content/tmay_prep/split/split.csv'\n",
            "Reading audio data from 'split.csv'.\n",
            "Processing audios shorter than 7 seconds..\n"
          ],
          "name": "stdout"
        },
        {
          "output_type": "stream",
          "text": [
            "100%|██████████| 844/844 [00:05<00:00, 155.91it/s]\n",
            "0it [00:00, ?it/s]\n",
            "  0%|          | 0/844 [00:00<?, ?it/s]"
          ],
          "name": "stderr"
        },
        {
          "output_type": "stream",
          "text": [
            "Processing audios longer than 7 seconds..\n",
            "Completed concatenating audios and their transcriptions in '/content/tmay_prep/concatenated'.\n",
            "Trimming silence from audios in '/content/tmay_prep/concatenated'.\n"
          ],
          "name": "stdout"
        },
        {
          "output_type": "stream",
          "text": [
            "100%|██████████| 844/844 [03:50<00:00,  3.66it/s]"
          ],
          "name": "stderr"
        },
        {
          "output_type": "stream",
          "text": [
            "Dataset 'tmay' has been generated. Wav files are placed in '/content/tmay/wavs'. Transcription files are placed in '/content/tmay/txts'.\n",
            "Metadata is placed in '/content/tmay' as 'metadata.csv'.\n",
            "Collected 0.19hours (679 seconds) of audio.\n"
          ],
          "name": "stdout"
        },
        {
          "output_type": "stream",
          "text": [
            "\n"
          ],
          "name": "stderr"
        }
      ]
    },
    {
      "cell_type": "code",
      "metadata": {
        "id": "BME0NysGsm4B"
      },
      "source": [
        "!zip -r /content/tmay.zip /content/tmay\n",
        "!zip -r /content/tmay_prep.zip /content/tmay_prep/"
      ],
      "execution_count": null,
      "outputs": []
    },
    {
      "cell_type": "code",
      "metadata": {
        "colab": {
          "base_uri": "https://localhost:8080/",
          "height": 34
        },
        "id": "sv5OZWAy6L9e",
        "outputId": "86a923cc-a24f-49de-fc06-a08ed46f235d"
      },
      "source": [
        "\n",
        "from google.colab import files\n",
        "files.download(\"/content/tmay_prep.zip\")"
      ],
      "execution_count": null,
      "outputs": [
        {
          "output_type": "display_data",
          "data": {
            "application/javascript": [
              "\n",
              "    async function download(id, filename, size) {\n",
              "      if (!google.colab.kernel.accessAllowed) {\n",
              "        return;\n",
              "      }\n",
              "      const div = document.createElement('div');\n",
              "      const label = document.createElement('label');\n",
              "      label.textContent = `Downloading \"${filename}\": `;\n",
              "      div.appendChild(label);\n",
              "      const progress = document.createElement('progress');\n",
              "      progress.max = size;\n",
              "      div.appendChild(progress);\n",
              "      document.body.appendChild(div);\n",
              "\n",
              "      const buffers = [];\n",
              "      let downloaded = 0;\n",
              "\n",
              "      const channel = await google.colab.kernel.comms.open(id);\n",
              "      // Send a message to notify the kernel that we're ready.\n",
              "      channel.send({})\n",
              "\n",
              "      for await (const message of channel.messages) {\n",
              "        // Send a message to notify the kernel that we're ready.\n",
              "        channel.send({})\n",
              "        if (message.buffers) {\n",
              "          for (const buffer of message.buffers) {\n",
              "            buffers.push(buffer);\n",
              "            downloaded += buffer.byteLength;\n",
              "            progress.value = downloaded;\n",
              "          }\n",
              "        }\n",
              "      }\n",
              "      const blob = new Blob(buffers, {type: 'application/binary'});\n",
              "      const a = document.createElement('a');\n",
              "      a.href = window.URL.createObjectURL(blob);\n",
              "      a.download = filename;\n",
              "      div.appendChild(a);\n",
              "      a.click();\n",
              "      div.remove();\n",
              "    }\n",
              "  "
            ],
            "text/plain": [
              "<IPython.core.display.Javascript object>"
            ]
          },
          "metadata": {
            "tags": []
          }
        },
        {
          "output_type": "display_data",
          "data": {
            "application/javascript": [
              "download(\"download_9f786000-187d-4be6-a8df-1e8828842215\", \"tmay_prep.zip\", 1482659766)"
            ],
            "text/plain": [
              "<IPython.core.display.Javascript object>"
            ]
          },
          "metadata": {
            "tags": []
          }
        }
      ]
    },
    {
      "cell_type": "code",
      "metadata": {
        "colab": {
          "base_uri": "https://localhost:8080/"
        },
        "id": "HPIiKX33kEcc",
        "outputId": "7169d6d7-20e0-46f7-80c9-2813bc5dd1d1"
      },
      "source": [
        "from adaptnlp.model_hub import HFModelHub\n",
        "\n",
        "hub = HFModelHub()\n",
        "models = hub.search_model_by_task('text2text-generation'); models"
      ],
      "execution_count": null,
      "outputs": [
        {
          "output_type": "execute_result",
          "data": {
            "text/plain": [
              "[Model Name: t5-11b, Tasks: [summarization, text2text-generation, translation],\n",
              " Model Name: t5-3b, Tasks: [summarization, text2text-generation, translation],\n",
              " Model Name: t5-base, Tasks: [summarization, text2text-generation, translation],\n",
              " Model Name: t5-large, Tasks: [summarization, text2text-generation, translation],\n",
              " Model Name: t5-small, Tasks: [summarization, text2text-generation, translation]]"
            ]
          },
          "metadata": {
            "tags": []
          },
          "execution_count": 9
        }
      ]
    },
    {
      "cell_type": "code",
      "metadata": {
        "id": "esepFzm3htFz"
      },
      "source": [
        "from adaptnlp import EasyTextGenerator\n",
        "text = \"China and the U.S. will begin to\"\n",
        "generator = EasyTextGenerator()\n",
        "generated_text = generator.generate(text, model_name_or_path=\"mrm8488/t5-base-finetuned-emotion\",max_length=2)\n",
        "\n",
        "print(generated_text)"
      ],
      "execution_count": null,
      "outputs": []
    },
    {
      "cell_type": "code",
      "metadata": {
        "colab": {
          "base_uri": "https://localhost:8080/",
          "height": 130
        },
        "id": "YwthkLxRkTKK",
        "outputId": "37435cbd-15e1-40f4-eb1b-7c2e90cc863e"
      },
      "source": [
        "from transformers import AutoTokenizer, AutoModelWithLMHead\n",
        "\n",
        "tokenizer = AutoTokenizer.from_pretrained(\"mrm8488/t5-base-finetuned-emotion\")\n",
        "\n",
        "model = AutoModelWithLMHead.from_pretrained(\"mrm8488/t5-base-finetuned-emotion\")\n",
        "\n",
        "def get_emotion(text):\n",
        "  input_ids = tokenizer.encode(text + '</s>', return_tensors='pt')\n",
        "\n",
        "  output = model.generate(input_ids=input_ids,\n",
        "               max_length=2)\n",
        "\n",
        "  dec = [tokenizer.decode(ids) for ids in output]\n",
        "  label = dec[0]\n",
        "  return label\n",
        "\n",
        "get_emotion(\"i feel as if i havent blogged in ages are at least truly blogged i am doing an update cute\") # Output: 'joy'\n",
        "\n"
      ],
      "execution_count": null,
      "outputs": [
        {
          "output_type": "error",
          "ename": "SyntaxError",
          "evalue": "ignored",
          "traceback": [
            "\u001b[0;36m  File \u001b[0;32m\"<ipython-input-19-06ba1a86347f>\"\u001b[0;36m, line \u001b[0;32m13\u001b[0m\n\u001b[0;31m    dec = [tokenizer.decode(ids), print(ids) for ids in output]\u001b[0m\n\u001b[0m                                               ^\u001b[0m\n\u001b[0;31mSyntaxError\u001b[0m\u001b[0;31m:\u001b[0m invalid syntax\n"
          ]
        }
      ]
    },
    {
      "cell_type": "code",
      "metadata": {
        "colab": {
          "base_uri": "https://localhost:8080/",
          "height": 368
        },
        "id": "JFGjmYoAN_bn",
        "outputId": "8f96de22-b9d6-45b7-850c-727c24b4e4c8"
      },
      "source": [
        "import logging\n",
        "\n",
        "from simpletransformers.language_modeling import LanguageModelingModel\n",
        "\n",
        "logging.basicConfig(level=logging.INFO)\n",
        "transformers_logger = logging.getLogger(\"transformers\")\n",
        "transformers_logger.setLevel(logging.WARNING)\n",
        "\n",
        "train_args = {\n",
        "    \"reprocess_input_data\": True,\n",
        "    \"overwrite_output_dir\": True,\n",
        "    \"block_size\": 512,\n",
        "    \"max_seq_length\": 512,\n",
        "    \"learning_rate\": 5e-6,\n",
        "    \"train_batch_size\": 8,\n",
        "    \"gradient_accumulation_steps\": 8,\n",
        "    \"num_train_epochs\": 3,\n",
        "    \"mlm\": False,\n",
        "    \"output_dir\": f\"outputs/fine-tuned/\",\n",
        "}\n",
        "\n",
        "model = LanguageModelingModel(\"gpt-neo\", 'EleutherAI/gpt-neo-2.7B', args=train_args)\n",
        "\n",
        "model.train_model(train_df)\n",
        "\n",
        "#model.eval_model(\"data/test.txt\")\n"
      ],
      "execution_count": null,
      "outputs": [
        {
          "output_type": "error",
          "ename": "KeyError",
          "evalue": "ignored",
          "traceback": [
            "\u001b[0;31m---------------------------------------------------------------------------\u001b[0m",
            "\u001b[0;31mKeyError\u001b[0m                                  Traceback (most recent call last)",
            "\u001b[0;32m<ipython-input-10-68f9020e3570>\u001b[0m in \u001b[0;36m<module>\u001b[0;34m()\u001b[0m\n\u001b[1;32m     20\u001b[0m }\n\u001b[1;32m     21\u001b[0m \u001b[0;34m\u001b[0m\u001b[0m\n\u001b[0;32m---> 22\u001b[0;31m \u001b[0mmodel\u001b[0m \u001b[0;34m=\u001b[0m \u001b[0mLanguageModelingModel\u001b[0m\u001b[0;34m(\u001b[0m\u001b[0;34m\"gpt-neo\"\u001b[0m\u001b[0;34m,\u001b[0m \u001b[0;34m'EleutherAI/gpt-neo-2.7B'\u001b[0m\u001b[0;34m,\u001b[0m \u001b[0margs\u001b[0m\u001b[0;34m=\u001b[0m\u001b[0mtrain_args\u001b[0m\u001b[0;34m)\u001b[0m\u001b[0;34m\u001b[0m\u001b[0;34m\u001b[0m\u001b[0m\n\u001b[0m\u001b[1;32m     23\u001b[0m \u001b[0;34m\u001b[0m\u001b[0m\n\u001b[1;32m     24\u001b[0m \u001b[0mmodel\u001b[0m\u001b[0;34m.\u001b[0m\u001b[0mtrain_model\u001b[0m\u001b[0;34m(\u001b[0m\u001b[0mtrain_df\u001b[0m\u001b[0;34m)\u001b[0m\u001b[0;34m\u001b[0m\u001b[0;34m\u001b[0m\u001b[0m\n",
            "\u001b[0;32m/usr/local/lib/python3.7/dist-packages/simpletransformers/language_modeling/language_modeling_model.py\u001b[0m in \u001b[0;36m__init__\u001b[0;34m(self, model_type, model_name, generator_name, discriminator_name, train_files, args, use_cuda, cuda_device, **kwargs)\u001b[0m\n\u001b[1;32m    181\u001b[0m         \u001b[0mself\u001b[0m\u001b[0;34m.\u001b[0m\u001b[0margs\u001b[0m\u001b[0;34m.\u001b[0m\u001b[0mmodel_type\u001b[0m \u001b[0;34m=\u001b[0m \u001b[0mmodel_type\u001b[0m\u001b[0;34m\u001b[0m\u001b[0;34m\u001b[0m\u001b[0m\n\u001b[1;32m    182\u001b[0m \u001b[0;34m\u001b[0m\u001b[0m\n\u001b[0;32m--> 183\u001b[0;31m         \u001b[0mconfig_class\u001b[0m\u001b[0;34m,\u001b[0m \u001b[0mmodel_class\u001b[0m\u001b[0;34m,\u001b[0m \u001b[0mtokenizer_class\u001b[0m \u001b[0;34m=\u001b[0m \u001b[0mMODEL_CLASSES\u001b[0m\u001b[0;34m[\u001b[0m\u001b[0mmodel_type\u001b[0m\u001b[0;34m]\u001b[0m\u001b[0;34m\u001b[0m\u001b[0;34m\u001b[0m\u001b[0m\n\u001b[0m\u001b[1;32m    184\u001b[0m         \u001b[0mself\u001b[0m\u001b[0;34m.\u001b[0m\u001b[0mtokenizer_class\u001b[0m \u001b[0;34m=\u001b[0m \u001b[0mtokenizer_class\u001b[0m\u001b[0;34m\u001b[0m\u001b[0;34m\u001b[0m\u001b[0m\n\u001b[1;32m    185\u001b[0m         \u001b[0mnew_tokenizer\u001b[0m \u001b[0;34m=\u001b[0m \u001b[0;32mFalse\u001b[0m\u001b[0;34m\u001b[0m\u001b[0;34m\u001b[0m\u001b[0m\n",
            "\u001b[0;31mKeyError\u001b[0m: 'gpt-neo'"
          ]
        }
      ]
    }
  ]
}